{
 "cells": [
  {
   "cell_type": "markdown",
   "id": "22534eff-b42c-4942-9c2b-cc6a854345c8",
   "metadata": {},
   "source": [
    "# BerkeleyHaas Case Series: Rocket Fuel: Measuring the Effectiveness of Online Advertising\n",
    "Questions taken from the case study"
   ]
  },
  {
   "cell_type": "markdown",
   "id": "b4cf9a8a-9345-4f1c-8026-6c31cc67bc8c",
   "metadata": {
    "tags": []
   },
   "source": [
    "## 1) Was the advertising campaign effective? Did additional consumers convert as a result of the ad campaign?"
   ]
  },
  {
   "cell_type": "code",
   "execution_count": 1,
   "id": "b8b5ca81-c100-4c69-bc51-d4dc6b3f5021",
   "metadata": {},
   "outputs": [],
   "source": [
    "import pandas as pd"
   ]
  },
  {
   "cell_type": "code",
   "execution_count": 2,
   "id": "c146ccff-da58-4ba8-836d-8c7a8c2aa392",
   "metadata": {},
   "outputs": [
    {
     "data": {
      "text/html": [
       "<div>\n",
       "<style scoped>\n",
       "    .dataframe tbody tr th:only-of-type {\n",
       "        vertical-align: middle;\n",
       "    }\n",
       "\n",
       "    .dataframe tbody tr th {\n",
       "        vertical-align: top;\n",
       "    }\n",
       "\n",
       "    .dataframe thead th {\n",
       "        text-align: right;\n",
       "    }\n",
       "</style>\n",
       "<table border=\"1\" class=\"dataframe\">\n",
       "  <thead>\n",
       "    <tr style=\"text-align: right;\">\n",
       "      <th></th>\n",
       "      <th>user_id</th>\n",
       "      <th>test</th>\n",
       "      <th>converted</th>\n",
       "      <th>tot_impr</th>\n",
       "      <th>mode_impr_day</th>\n",
       "      <th>mode_impr_hour</th>\n",
       "    </tr>\n",
       "  </thead>\n",
       "  <tbody>\n",
       "    <tr>\n",
       "      <th>0</th>\n",
       "      <td>1069124</td>\n",
       "      <td>1</td>\n",
       "      <td>0</td>\n",
       "      <td>130</td>\n",
       "      <td>1</td>\n",
       "      <td>20</td>\n",
       "    </tr>\n",
       "    <tr>\n",
       "      <th>1</th>\n",
       "      <td>1119715</td>\n",
       "      <td>1</td>\n",
       "      <td>0</td>\n",
       "      <td>93</td>\n",
       "      <td>2</td>\n",
       "      <td>22</td>\n",
       "    </tr>\n",
       "    <tr>\n",
       "      <th>2</th>\n",
       "      <td>1144181</td>\n",
       "      <td>1</td>\n",
       "      <td>0</td>\n",
       "      <td>21</td>\n",
       "      <td>2</td>\n",
       "      <td>18</td>\n",
       "    </tr>\n",
       "    <tr>\n",
       "      <th>3</th>\n",
       "      <td>1435133</td>\n",
       "      <td>1</td>\n",
       "      <td>0</td>\n",
       "      <td>355</td>\n",
       "      <td>2</td>\n",
       "      <td>10</td>\n",
       "    </tr>\n",
       "    <tr>\n",
       "      <th>4</th>\n",
       "      <td>1015700</td>\n",
       "      <td>1</td>\n",
       "      <td>0</td>\n",
       "      <td>276</td>\n",
       "      <td>5</td>\n",
       "      <td>14</td>\n",
       "    </tr>\n",
       "  </tbody>\n",
       "</table>\n",
       "</div>"
      ],
      "text/plain": [
       "   user_id  test  converted  tot_impr  mode_impr_day  mode_impr_hour\n",
       "0  1069124     1          0       130              1              20\n",
       "1  1119715     1          0        93              2              22\n",
       "2  1144181     1          0        21              2              18\n",
       "3  1435133     1          0       355              2              10\n",
       "4  1015700     1          0       276              5              14"
      ]
     },
     "execution_count": 2,
     "metadata": {},
     "output_type": "execute_result"
    }
   ],
   "source": [
    "# import data\n",
    "df = pd.read_csv('2017_9_rocketfuel_5896.csv')\n",
    "df.head()"
   ]
  },
  {
   "cell_type": "code",
   "execution_count": 3,
   "id": "c1606988-2cfb-4e2a-954b-d3a99846bae5",
   "metadata": {},
   "outputs": [
    {
     "data": {
      "text/html": [
       "<div>\n",
       "<style scoped>\n",
       "    .dataframe tbody tr th:only-of-type {\n",
       "        vertical-align: middle;\n",
       "    }\n",
       "\n",
       "    .dataframe tbody tr th {\n",
       "        vertical-align: top;\n",
       "    }\n",
       "\n",
       "    .dataframe thead th {\n",
       "        text-align: right;\n",
       "    }\n",
       "</style>\n",
       "<table border=\"1\" class=\"dataframe\">\n",
       "  <thead>\n",
       "    <tr style=\"text-align: right;\">\n",
       "      <th></th>\n",
       "      <th>user_id</th>\n",
       "      <th>test</th>\n",
       "      <th>converted</th>\n",
       "      <th>tot_impr</th>\n",
       "      <th>mode_impr_day</th>\n",
       "      <th>mode_impr_hour</th>\n",
       "    </tr>\n",
       "  </thead>\n",
       "  <tbody>\n",
       "    <tr>\n",
       "      <th>count</th>\n",
       "      <td>5.881010e+05</td>\n",
       "      <td>588101.000000</td>\n",
       "      <td>588101.000000</td>\n",
       "      <td>588101.000000</td>\n",
       "      <td>588101.000000</td>\n",
       "      <td>588101.000000</td>\n",
       "    </tr>\n",
       "    <tr>\n",
       "      <th>mean</th>\n",
       "      <td>1.310692e+06</td>\n",
       "      <td>0.960000</td>\n",
       "      <td>0.025239</td>\n",
       "      <td>24.820876</td>\n",
       "      <td>4.025533</td>\n",
       "      <td>14.469061</td>\n",
       "    </tr>\n",
       "    <tr>\n",
       "      <th>std</th>\n",
       "      <td>2.022260e+05</td>\n",
       "      <td>0.195959</td>\n",
       "      <td>0.156850</td>\n",
       "      <td>43.715181</td>\n",
       "      <td>2.004019</td>\n",
       "      <td>4.834634</td>\n",
       "    </tr>\n",
       "    <tr>\n",
       "      <th>min</th>\n",
       "      <td>9.000000e+05</td>\n",
       "      <td>0.000000</td>\n",
       "      <td>0.000000</td>\n",
       "      <td>1.000000</td>\n",
       "      <td>1.000000</td>\n",
       "      <td>0.000000</td>\n",
       "    </tr>\n",
       "    <tr>\n",
       "      <th>25%</th>\n",
       "      <td>1.143190e+06</td>\n",
       "      <td>1.000000</td>\n",
       "      <td>0.000000</td>\n",
       "      <td>4.000000</td>\n",
       "      <td>2.000000</td>\n",
       "      <td>11.000000</td>\n",
       "    </tr>\n",
       "    <tr>\n",
       "      <th>50%</th>\n",
       "      <td>1.313725e+06</td>\n",
       "      <td>1.000000</td>\n",
       "      <td>0.000000</td>\n",
       "      <td>13.000000</td>\n",
       "      <td>4.000000</td>\n",
       "      <td>14.000000</td>\n",
       "    </tr>\n",
       "    <tr>\n",
       "      <th>75%</th>\n",
       "      <td>1.484088e+06</td>\n",
       "      <td>1.000000</td>\n",
       "      <td>0.000000</td>\n",
       "      <td>27.000000</td>\n",
       "      <td>6.000000</td>\n",
       "      <td>18.000000</td>\n",
       "    </tr>\n",
       "    <tr>\n",
       "      <th>max</th>\n",
       "      <td>1.654483e+06</td>\n",
       "      <td>1.000000</td>\n",
       "      <td>1.000000</td>\n",
       "      <td>2065.000000</td>\n",
       "      <td>7.000000</td>\n",
       "      <td>23.000000</td>\n",
       "    </tr>\n",
       "  </tbody>\n",
       "</table>\n",
       "</div>"
      ],
      "text/plain": [
       "            user_id           test      converted       tot_impr  \\\n",
       "count  5.881010e+05  588101.000000  588101.000000  588101.000000   \n",
       "mean   1.310692e+06       0.960000       0.025239      24.820876   \n",
       "std    2.022260e+05       0.195959       0.156850      43.715181   \n",
       "min    9.000000e+05       0.000000       0.000000       1.000000   \n",
       "25%    1.143190e+06       1.000000       0.000000       4.000000   \n",
       "50%    1.313725e+06       1.000000       0.000000      13.000000   \n",
       "75%    1.484088e+06       1.000000       0.000000      27.000000   \n",
       "max    1.654483e+06       1.000000       1.000000    2065.000000   \n",
       "\n",
       "       mode_impr_day  mode_impr_hour  \n",
       "count  588101.000000   588101.000000  \n",
       "mean        4.025533       14.469061  \n",
       "std         2.004019        4.834634  \n",
       "min         1.000000        0.000000  \n",
       "25%         2.000000       11.000000  \n",
       "50%         4.000000       14.000000  \n",
       "75%         6.000000       18.000000  \n",
       "max         7.000000       23.000000  "
      ]
     },
     "execution_count": 3,
     "metadata": {},
     "output_type": "execute_result"
    }
   ],
   "source": [
    "df.describe()"
   ]
  },
  {
   "cell_type": "code",
   "execution_count": 4,
   "id": "3647fd04-d543-460e-94e3-ae6308ef1e1b",
   "metadata": {},
   "outputs": [],
   "source": [
    "# number of users in control group\n",
    "control = df[df['test'] == 0].converted.value_counts()"
   ]
  },
  {
   "cell_type": "code",
   "execution_count": 5,
   "id": "03831c2d-25b7-466d-b62b-df76cb9d0607",
   "metadata": {},
   "outputs": [
    {
     "data": {
      "text/plain": [
       "0.01785410644448223"
      ]
     },
     "execution_count": 5,
     "metadata": {},
     "output_type": "execute_result"
    }
   ],
   "source": [
    "control_conversion = control[1] / (control[0] + control[1])\n",
    "control_conversion"
   ]
  },
  {
   "cell_type": "code",
   "execution_count": 6,
   "id": "d9c16e0d-c637-48ef-a700-e179ac9cf1e3",
   "metadata": {},
   "outputs": [
    {
     "data": {
      "text/plain": [
       "0    550154\n",
       "1     14423\n",
       "Name: converted, dtype: int64"
      ]
     },
     "execution_count": 6,
     "metadata": {},
     "output_type": "execute_result"
    }
   ],
   "source": [
    "test = df[df['test'] == 1].converted.value_counts()\n",
    "test"
   ]
  },
  {
   "cell_type": "code",
   "execution_count": 7,
   "id": "e4f8339a-4265-4b88-a87e-4f5125099522",
   "metadata": {},
   "outputs": [
    {
     "data": {
      "text/plain": [
       "0.025546559636683747"
      ]
     },
     "execution_count": 7,
     "metadata": {},
     "output_type": "execute_result"
    }
   ],
   "source": [
    "test_conversion = test[1] / (test[0] + test[1])\n",
    "test_conversion"
   ]
  },
  {
   "cell_type": "code",
   "execution_count": 8,
   "id": "0b19907d-ca21-4703-bcd3-5aa5cda4293c",
   "metadata": {},
   "outputs": [],
   "source": [
    "# import stats package for z-test to see if the proportions are dissimilar\n",
    "import numpy as np\n",
    "from statsmodels.stats.proportion import proportions_ztest\n",
    "from scipy.stats import norm\n",
    "import math"
   ]
  },
  {
   "cell_type": "code",
   "execution_count": 9,
   "id": "9408f017-128e-4b7b-9cf2-b9f133e93117",
   "metadata": {},
   "outputs": [
    {
     "data": {
      "text/plain": [
       "test  converted\n",
       "0     0             23104\n",
       "      1               420\n",
       "1     0            550154\n",
       "      1             14423\n",
       "Name: converted, dtype: int64"
      ]
     },
     "execution_count": 9,
     "metadata": {},
     "output_type": "execute_result"
    }
   ],
   "source": [
    "df.groupby('test')['converted'].value_counts()"
   ]
  },
  {
   "cell_type": "code",
   "execution_count": 10,
   "id": "b40951ff-2221-4e53-98fe-bf9a291aa5e7",
   "metadata": {},
   "outputs": [
    {
     "data": {
      "text/plain": [
       "array([  420, 14423], dtype=int64)"
      ]
     },
     "execution_count": 10,
     "metadata": {},
     "output_type": "execute_result"
    }
   ],
   "source": [
    "n_conv = np.array([control[1], test[1]])\n",
    "n_conv"
   ]
  },
  {
   "cell_type": "code",
   "execution_count": 11,
   "id": "850baefb-1088-4d5f-a33d-db92b4e68707",
   "metadata": {},
   "outputs": [
    {
     "data": {
      "text/plain": [
       "array([ 23524, 564577], dtype=int64)"
      ]
     },
     "execution_count": 11,
     "metadata": {},
     "output_type": "execute_result"
    }
   ],
   "source": [
    "n_rows = np.array([df.test.value_counts()[0], df.test.value_counts()[1]])\n",
    "n_rows"
   ]
  },
  {
   "cell_type": "markdown",
   "id": "76c312c3-509a-4869-b5f0-090c25d16df8",
   "metadata": {
    "tags": []
   },
   "source": [
    "### Here, we feed the arrays into the z-test function to get the z-score and associated p-value"
   ]
  },
  {
   "cell_type": "code",
   "execution_count": 12,
   "id": "c3883372-52f5-4975-8ca0-e3ae7688d4c0",
   "metadata": {},
   "outputs": [
    {
     "data": {
      "text/plain": [
       "(-7.3700781265454145, 8.526403580779863e-14)"
      ]
     },
     "execution_count": 12,
     "metadata": {},
     "output_type": "execute_result"
    }
   ],
   "source": [
    "z, p = proportions_ztest(count=n_conv, nobs=n_rows, alternative='smaller')\n",
    "z, p"
   ]
  },
  {
   "cell_type": "markdown",
   "id": "a4b5fce7-1046-4229-ab59-fdcde97000a9",
   "metadata": {},
   "source": [
    "### Looks like the z-score is pretty large and the p-value is very small. We can safely say that advertizing does have a positive effect on conversions. Let's see how big the effect is below"
   ]
  },
  {
   "cell_type": "markdown",
   "id": "8bbf4d8c-923b-4328-b6c3-8d65a67a282e",
   "metadata": {},
   "source": [
    "### Let's find out what the 99% CI is for the difference showing ads makes"
   ]
  },
  {
   "cell_type": "code",
   "execution_count": 13,
   "id": "0f8feed8-1f7d-4211-9136-6f765a710021",
   "metadata": {},
   "outputs": [],
   "source": [
    "n1 = n_rows[1]\n",
    "n2 = n_rows[0]\n",
    "p1 = test_conversion\n",
    "p2 = control_conversion\n",
    "mu = p1-p2\n",
    "variance = p1*(1-p1)/n1 + p2*(1-p2)/n2\n",
    "sigma = math.sqrt(variance)"
   ]
  },
  {
   "cell_type": "code",
   "execution_count": 14,
   "id": "a2fe4633-af63-4e86-a8ec-b8138bba4434",
   "metadata": {},
   "outputs": [
    {
     "name": "stdout",
     "output_type": "stream",
     "text": [
      "The 99% CI of the difference advertising makes is: [0.005,0.01]\n"
     ]
    }
   ],
   "source": [
    "print(f'The 99% CI of the difference advertising makes is: [{np.round(p1-p2 - np.sqrt(variance) * norm.ppf(0.995), 3)},{np.round(p1-p2 + np.sqrt(variance) * norm.ppf(0.995), 3)}]')"
   ]
  },
  {
   "cell_type": "markdown",
   "id": "3f646b71-98cc-446d-8a34-f007f6cd6787",
   "metadata": {
    "tags": []
   },
   "source": [
    "## 2) Profitability"
   ]
  },
  {
   "cell_type": "markdown",
   "id": "2995bf4f-4fb4-4a06-a72b-7dfac0407b2a",
   "metadata": {
    "tags": []
   },
   "source": [
    "### a) How much more money did TaskaBella make by running the campaign (excluding advertising costs)?\n",
    "Extra made from campaing is the extra sales over the number of treatment users. If we assume the control group is the baseline, then we can measure extra sales as the difference in proportions * number of treatment users * marginal profit"
   ]
  },
  {
   "cell_type": "code",
   "execution_count": 15,
   "id": "3d8d3b15-0230-40de-9287-1d5ad96aa85e",
   "metadata": {},
   "outputs": [],
   "source": [
    "ad_diff = test_conversion - control_conversion\n",
    "test_group = df.test.sum()\n",
    "conversion_rev = 40\n",
    "marginal_revenue = ad_diff * test_group * conversion_rev"
   ]
  },
  {
   "cell_type": "code",
   "execution_count": 16,
   "id": "29d41d5a-f329-485b-92c5-1560a9036ca2",
   "metadata": {},
   "outputs": [
    {
     "name": "stdout",
     "output_type": "stream",
     "text": [
      "Extra Revenue Generated from ad campaign: $173,719.29\n"
     ]
    }
   ],
   "source": [
    "print('Extra Revenue Generated from ad campaign: 'f'${marginal_revenue:,.2f}')"
   ]
  },
  {
   "cell_type": "markdown",
   "id": "a24ab25b-d3bc-4ca5-adf6-6cae1f0783e4",
   "metadata": {
    "tags": []
   },
   "source": [
    "### b) What was the cost of the campaign?\n",
    "Cost of campaign was $9 CPM or 9 * total impressions / 1000"
   ]
  },
  {
   "cell_type": "code",
   "execution_count": 17,
   "id": "463d343a-1387-487f-9a37-a6818f32d828",
   "metadata": {},
   "outputs": [
    {
     "name": "stdout",
     "output_type": "stream",
     "text": [
      "Cost of Campaign: $131,374.64\n"
     ]
    }
   ],
   "source": [
    "total_cost = df.tot_impr.sum() * 9 / 1000\n",
    "print('Cost of Campaign: 'f'${total_cost:,.2f}')"
   ]
  },
  {
   "cell_type": "markdown",
   "id": "75844d8c-e725-4e62-901b-4e5fd91bae94",
   "metadata": {
    "tags": []
   },
   "source": [
    "### c) Calculate the ROI of the campaign. Was the campaign profitable?\n",
    "ROI = Total Return - Cost / Cost"
   ]
  },
  {
   "cell_type": "code",
   "execution_count": 18,
   "id": "a48817be-33a3-4072-a178-d3ce3a140513",
   "metadata": {},
   "outputs": [
    {
     "name": "stdout",
     "output_type": "stream",
     "text": [
      "ROI: 32.23%\n"
     ]
    }
   ],
   "source": [
    "ROI = (marginal_revenue - total_cost)/total_cost\n",
    "print('ROI: 'f'{ROI:.2%}')"
   ]
  },
  {
   "cell_type": "markdown",
   "id": "0c142788-2ba1-4174-9148-bdf47579e042",
   "metadata": {
    "tags": []
   },
   "source": [
    "### d) What was the opportunity cost of including a control group; how much more could have TaskaBella made with a smaller control group or not having a control group at all?\n",
    "The lost extra sales from the control group * conversion revenue"
   ]
  },
  {
   "cell_type": "code",
   "execution_count": 19,
   "id": "6cf42f9b-aa88-4e82-af29-771a60fc1128",
   "metadata": {},
   "outputs": [],
   "source": [
    "control_group = control.sum()\n",
    "opp_cost = ad_diff * control_group * conversion_rev"
   ]
  },
  {
   "cell_type": "code",
   "execution_count": 20,
   "id": "666b1f80-8cf3-4d20-8a69-72657324377b",
   "metadata": {},
   "outputs": [
    {
     "name": "stdout",
     "output_type": "stream",
     "text": [
      "Opportunity Cost: $7,238.29\n"
     ]
    }
   ],
   "source": [
    "print('Opportunity Cost: 'f'${opp_cost:,.2f}')"
   ]
  },
  {
   "cell_type": "markdown",
   "id": "171e469b-0a7c-469b-a12d-2116760d062a",
   "metadata": {
    "tags": []
   },
   "source": [
    "## 3) How did the number of impressions seen by each user influence the effectiveness of advertising?"
   ]
  },
  {
   "cell_type": "code",
   "execution_count": 21,
   "id": "43281862-0eed-4244-9d5c-267c3feaca8b",
   "metadata": {},
   "outputs": [],
   "source": [
    "# we'll be doing some charting so let's get the visual pacakages imported\n",
    "import seaborn as sns\n",
    "import matplotlib.pyplot as plt\n",
    "sns.set_style('whitegrid')\n",
    "sns.set_palette('Dark2')"
   ]
  },
  {
   "cell_type": "code",
   "execution_count": 22,
   "id": "83e1287e-859b-46b6-8e8d-78a1b023025a",
   "metadata": {},
   "outputs": [
    {
     "data": {
      "text/plain": [
       "[(0.0, 300.0)]"
      ]
     },
     "execution_count": 22,
     "metadata": {},
     "output_type": "execute_result"
    },
    {
     "data": {
      "image/png": "[encoded data removed]",
      "text/plain": [
       "<Figure size 640x480 with 1 Axes>"
      ]
     },
     "metadata": {},
     "output_type": "display_data"
    }
   ],
   "source": [
    "# taking a look at how the data is distributed, we see that the majority of cases are under 100 total impressions. We'll break the 'bins' into 25 viewing increments\n",
    "g=sns.histplot(data=df[df.converted == 1], x='tot_impr', binwidth=25)\n",
    "g.set(xlim=(0,300)) #uncomment to zoom in"
   ]
  },
  {
   "cell_type": "code",
   "execution_count": 23,
   "id": "c2c8cfb4-32bf-4efd-897c-3014a428fdfc",
   "metadata": {},
   "outputs": [],
   "source": [
    "df['impr_range'] = ['251+' if x >= 251 else '226-250' if x >= 226 else\n",
    "                    '201-225' if x >= 201 else\n",
    "                    '176-200' if x >= 176 else '151-175' if x >= 151 else \n",
    "                    '126-150' if x >= 126 else '101-125' if x>= 101 else\n",
    "                    '76-100' if x >= 76 else '51-75' if x >= 51 else\n",
    "                    '26-50' if x >= 26 else '1-25' for x in df.tot_impr]"
   ]
  },
  {
   "cell_type": "code",
   "execution_count": 24,
   "id": "41e67e40-d68c-44a7-b6d2-2e4d79f3d146",
   "metadata": {},
   "outputs": [],
   "source": [
    "impr_range_val = ['1-25','26-50','51-75','76-100','101-125','126-150','151-175','176-200','201-225','226-250','251+']"
   ]
  },
  {
   "cell_type": "code",
   "execution_count": 25,
   "id": "88cdbde5-d54d-4dda-8bc7-06c4049b8714",
   "metadata": {},
   "outputs": [],
   "source": [
    "df.impr_range = pd.Categorical(df.impr_range, categories=impr_range_val, ordered=True)"
   ]
  },
  {
   "cell_type": "code",
   "execution_count": 26,
   "id": "d7d30250-d681-4fef-a337-3a3ddf422a46",
   "metadata": {},
   "outputs": [
    {
     "data": {
      "text/html": [
       "<div>\n",
       "<style scoped>\n",
       "    .dataframe tbody tr th:only-of-type {\n",
       "        vertical-align: middle;\n",
       "    }\n",
       "\n",
       "    .dataframe tbody tr th {\n",
       "        vertical-align: top;\n",
       "    }\n",
       "\n",
       "    .dataframe thead th {\n",
       "        text-align: right;\n",
       "    }\n",
       "</style>\n",
       "<table border=\"1\" class=\"dataframe\">\n",
       "  <thead>\n",
       "    <tr style=\"text-align: right;\">\n",
       "      <th></th>\n",
       "      <th>user_id</th>\n",
       "      <th>group</th>\n",
       "      <th>converted</th>\n",
       "      <th>tot_impr</th>\n",
       "      <th>mode_impr_day</th>\n",
       "      <th>mode_impr_hour</th>\n",
       "      <th>impr_range</th>\n",
       "    </tr>\n",
       "  </thead>\n",
       "  <tbody>\n",
       "    <tr>\n",
       "      <th>0</th>\n",
       "      <td>1069124</td>\n",
       "      <td>test</td>\n",
       "      <td>0</td>\n",
       "      <td>130</td>\n",
       "      <td>1</td>\n",
       "      <td>20</td>\n",
       "      <td>126-150</td>\n",
       "    </tr>\n",
       "    <tr>\n",
       "      <th>1</th>\n",
       "      <td>1119715</td>\n",
       "      <td>test</td>\n",
       "      <td>0</td>\n",
       "      <td>93</td>\n",
       "      <td>2</td>\n",
       "      <td>22</td>\n",
       "      <td>76-100</td>\n",
       "    </tr>\n",
       "    <tr>\n",
       "      <th>2</th>\n",
       "      <td>1144181</td>\n",
       "      <td>test</td>\n",
       "      <td>0</td>\n",
       "      <td>21</td>\n",
       "      <td>2</td>\n",
       "      <td>18</td>\n",
       "      <td>1-25</td>\n",
       "    </tr>\n",
       "    <tr>\n",
       "      <th>3</th>\n",
       "      <td>1435133</td>\n",
       "      <td>test</td>\n",
       "      <td>0</td>\n",
       "      <td>355</td>\n",
       "      <td>2</td>\n",
       "      <td>10</td>\n",
       "      <td>251+</td>\n",
       "    </tr>\n",
       "    <tr>\n",
       "      <th>4</th>\n",
       "      <td>1015700</td>\n",
       "      <td>test</td>\n",
       "      <td>0</td>\n",
       "      <td>276</td>\n",
       "      <td>5</td>\n",
       "      <td>14</td>\n",
       "      <td>251+</td>\n",
       "    </tr>\n",
       "    <tr>\n",
       "      <th>...</th>\n",
       "      <td>...</td>\n",
       "      <td>...</td>\n",
       "      <td>...</td>\n",
       "      <td>...</td>\n",
       "      <td>...</td>\n",
       "      <td>...</td>\n",
       "      <td>...</td>\n",
       "    </tr>\n",
       "    <tr>\n",
       "      <th>588096</th>\n",
       "      <td>1278437</td>\n",
       "      <td>test</td>\n",
       "      <td>0</td>\n",
       "      <td>1</td>\n",
       "      <td>2</td>\n",
       "      <td>23</td>\n",
       "      <td>1-25</td>\n",
       "    </tr>\n",
       "    <tr>\n",
       "      <th>588097</th>\n",
       "      <td>1327975</td>\n",
       "      <td>test</td>\n",
       "      <td>0</td>\n",
       "      <td>1</td>\n",
       "      <td>2</td>\n",
       "      <td>23</td>\n",
       "      <td>1-25</td>\n",
       "    </tr>\n",
       "    <tr>\n",
       "      <th>588098</th>\n",
       "      <td>1038442</td>\n",
       "      <td>test</td>\n",
       "      <td>0</td>\n",
       "      <td>3</td>\n",
       "      <td>2</td>\n",
       "      <td>23</td>\n",
       "      <td>1-25</td>\n",
       "    </tr>\n",
       "    <tr>\n",
       "      <th>588099</th>\n",
       "      <td>1496395</td>\n",
       "      <td>test</td>\n",
       "      <td>0</td>\n",
       "      <td>1</td>\n",
       "      <td>2</td>\n",
       "      <td>23</td>\n",
       "      <td>1-25</td>\n",
       "    </tr>\n",
       "    <tr>\n",
       "      <th>588100</th>\n",
       "      <td>1237779</td>\n",
       "      <td>test</td>\n",
       "      <td>0</td>\n",
       "      <td>1</td>\n",
       "      <td>2</td>\n",
       "      <td>23</td>\n",
       "      <td>1-25</td>\n",
       "    </tr>\n",
       "  </tbody>\n",
       "</table>\n",
       "<p>588101 rows × 7 columns</p>\n",
       "</div>"
      ],
      "text/plain": [
       "        user_id group  converted  tot_impr  mode_impr_day  mode_impr_hour  \\\n",
       "0       1069124  test          0       130              1              20   \n",
       "1       1119715  test          0        93              2              22   \n",
       "2       1144181  test          0        21              2              18   \n",
       "3       1435133  test          0       355              2              10   \n",
       "4       1015700  test          0       276              5              14   \n",
       "...         ...   ...        ...       ...            ...             ...   \n",
       "588096  1278437  test          0         1              2              23   \n",
       "588097  1327975  test          0         1              2              23   \n",
       "588098  1038442  test          0         3              2              23   \n",
       "588099  1496395  test          0         1              2              23   \n",
       "588100  1237779  test          0         1              2              23   \n",
       "\n",
       "       impr_range  \n",
       "0         126-150  \n",
       "1          76-100  \n",
       "2            1-25  \n",
       "3            251+  \n",
       "4            251+  \n",
       "...           ...  \n",
       "588096       1-25  \n",
       "588097       1-25  \n",
       "588098       1-25  \n",
       "588099       1-25  \n",
       "588100       1-25  \n",
       "\n",
       "[588101 rows x 7 columns]"
      ]
     },
     "execution_count": 26,
     "metadata": {},
     "output_type": "execute_result"
    }
   ],
   "source": [
    "# make a copy of the dataframe to manipulate for this analysis\n",
    "df2 = df\n",
    "# change 1s and 0s to text for legibility\n",
    "df2.test = ['test' if x == 1 else 'control' for x in df2.test]\n",
    "df2=df2.rename(columns = {'test':'group'})\n",
    "df2\n"
   ]
  },
  {
   "cell_type": "code",
   "execution_count": 27,
   "id": "64873935-f947-4bb3-a88d-655c09fee387",
   "metadata": {},
   "outputs": [],
   "source": [
    "df3a = df2.groupby(['impr_range','group'])['user_id'].count().to_frame()\n",
    "df3b = df2.groupby(['impr_range','group'])['converted'].sum().to_frame()"
   ]
  },
  {
   "cell_type": "code",
   "execution_count": 28,
   "id": "4e7f9e97-6296-4743-8c04-f00012486c36",
   "metadata": {},
   "outputs": [
    {
     "data": {
      "text/html": [
       "<div>\n",
       "<style scoped>\n",
       "    .dataframe tbody tr th:only-of-type {\n",
       "        vertical-align: middle;\n",
       "    }\n",
       "\n",
       "    .dataframe tbody tr th {\n",
       "        vertical-align: top;\n",
       "    }\n",
       "\n",
       "    .dataframe thead th {\n",
       "        text-align: right;\n",
       "    }\n",
       "</style>\n",
       "<table border=\"1\" class=\"dataframe\">\n",
       "  <thead>\n",
       "    <tr style=\"text-align: right;\">\n",
       "      <th></th>\n",
       "      <th></th>\n",
       "      <th>user_count</th>\n",
       "      <th>converted</th>\n",
       "      <th>conversion_rate</th>\n",
       "    </tr>\n",
       "    <tr>\n",
       "      <th>impr_range</th>\n",
       "      <th>group</th>\n",
       "      <th></th>\n",
       "      <th></th>\n",
       "      <th></th>\n",
       "    </tr>\n",
       "  </thead>\n",
       "  <tbody>\n",
       "    <tr>\n",
       "      <th rowspan=\"2\" valign=\"top\">1-25</th>\n",
       "      <th>control</th>\n",
       "      <td>17388</td>\n",
       "      <td>106</td>\n",
       "      <td>0.609616</td>\n",
       "    </tr>\n",
       "    <tr>\n",
       "      <th>test</th>\n",
       "      <td>412634</td>\n",
       "      <td>2472</td>\n",
       "      <td>0.599078</td>\n",
       "    </tr>\n",
       "    <tr>\n",
       "      <th rowspan=\"2\" valign=\"top\">26-50</th>\n",
       "      <th>control</th>\n",
       "      <td>3273</td>\n",
       "      <td>87</td>\n",
       "      <td>2.658112</td>\n",
       "    </tr>\n",
       "    <tr>\n",
       "      <th>test</th>\n",
       "      <td>85740</td>\n",
       "      <td>3037</td>\n",
       "      <td>3.542104</td>\n",
       "    </tr>\n",
       "    <tr>\n",
       "      <th rowspan=\"2\" valign=\"top\">51-75</th>\n",
       "      <th>control</th>\n",
       "      <td>1256</td>\n",
       "      <td>66</td>\n",
       "      <td>5.254777</td>\n",
       "    </tr>\n",
       "    <tr>\n",
       "      <th>test</th>\n",
       "      <td>30078</td>\n",
       "      <td>2988</td>\n",
       "      <td>9.934171</td>\n",
       "    </tr>\n",
       "    <tr>\n",
       "      <th rowspan=\"2\" valign=\"top\">76-100</th>\n",
       "      <th>control</th>\n",
       "      <td>597</td>\n",
       "      <td>41</td>\n",
       "      <td>6.867672</td>\n",
       "    </tr>\n",
       "    <tr>\n",
       "      <th>test</th>\n",
       "      <td>14071</td>\n",
       "      <td>2147</td>\n",
       "      <td>15.258333</td>\n",
       "    </tr>\n",
       "    <tr>\n",
       "      <th rowspan=\"2\" valign=\"top\">101-125</th>\n",
       "      <th>control</th>\n",
       "      <td>331</td>\n",
       "      <td>31</td>\n",
       "      <td>9.365559</td>\n",
       "    </tr>\n",
       "    <tr>\n",
       "      <th>test</th>\n",
       "      <td>7471</td>\n",
       "      <td>1350</td>\n",
       "      <td>18.069870</td>\n",
       "    </tr>\n",
       "    <tr>\n",
       "      <th rowspan=\"2\" valign=\"top\">126-150</th>\n",
       "      <th>control</th>\n",
       "      <td>202</td>\n",
       "      <td>26</td>\n",
       "      <td>12.871287</td>\n",
       "    </tr>\n",
       "    <tr>\n",
       "      <th>test</th>\n",
       "      <td>4383</td>\n",
       "      <td>773</td>\n",
       "      <td>17.636322</td>\n",
       "    </tr>\n",
       "    <tr>\n",
       "      <th rowspan=\"2\" valign=\"top\">151-175</th>\n",
       "      <th>control</th>\n",
       "      <td>133</td>\n",
       "      <td>15</td>\n",
       "      <td>11.278195</td>\n",
       "    </tr>\n",
       "    <tr>\n",
       "      <th>test</th>\n",
       "      <td>2708</td>\n",
       "      <td>484</td>\n",
       "      <td>17.872969</td>\n",
       "    </tr>\n",
       "    <tr>\n",
       "      <th rowspan=\"2\" valign=\"top\">176-200</th>\n",
       "      <th>control</th>\n",
       "      <td>86</td>\n",
       "      <td>8</td>\n",
       "      <td>9.302326</td>\n",
       "    </tr>\n",
       "    <tr>\n",
       "      <th>test</th>\n",
       "      <td>1798</td>\n",
       "      <td>285</td>\n",
       "      <td>15.850945</td>\n",
       "    </tr>\n",
       "    <tr>\n",
       "      <th rowspan=\"2\" valign=\"top\">201-225</th>\n",
       "      <th>control</th>\n",
       "      <td>71</td>\n",
       "      <td>12</td>\n",
       "      <td>16.901408</td>\n",
       "    </tr>\n",
       "    <tr>\n",
       "      <th>test</th>\n",
       "      <td>1300</td>\n",
       "      <td>208</td>\n",
       "      <td>16.000000</td>\n",
       "    </tr>\n",
       "    <tr>\n",
       "      <th rowspan=\"2\" valign=\"top\">226-250</th>\n",
       "      <th>control</th>\n",
       "      <td>41</td>\n",
       "      <td>5</td>\n",
       "      <td>12.195122</td>\n",
       "    </tr>\n",
       "    <tr>\n",
       "      <th>test</th>\n",
       "      <td>924</td>\n",
       "      <td>125</td>\n",
       "      <td>13.528139</td>\n",
       "    </tr>\n",
       "    <tr>\n",
       "      <th rowspan=\"2\" valign=\"top\">251+</th>\n",
       "      <th>control</th>\n",
       "      <td>146</td>\n",
       "      <td>23</td>\n",
       "      <td>15.753425</td>\n",
       "    </tr>\n",
       "    <tr>\n",
       "      <th>test</th>\n",
       "      <td>3470</td>\n",
       "      <td>554</td>\n",
       "      <td>15.965418</td>\n",
       "    </tr>\n",
       "  </tbody>\n",
       "</table>\n",
       "</div>"
      ],
      "text/plain": [
       "                    user_count  converted  conversion_rate\n",
       "impr_range group                                          \n",
       "1-25       control       17388        106         0.609616\n",
       "           test         412634       2472         0.599078\n",
       "26-50      control        3273         87         2.658112\n",
       "           test          85740       3037         3.542104\n",
       "51-75      control        1256         66         5.254777\n",
       "           test          30078       2988         9.934171\n",
       "76-100     control         597         41         6.867672\n",
       "           test          14071       2147        15.258333\n",
       "101-125    control         331         31         9.365559\n",
       "           test           7471       1350        18.069870\n",
       "126-150    control         202         26        12.871287\n",
       "           test           4383        773        17.636322\n",
       "151-175    control         133         15        11.278195\n",
       "           test           2708        484        17.872969\n",
       "176-200    control          86          8         9.302326\n",
       "           test           1798        285        15.850945\n",
       "201-225    control          71         12        16.901408\n",
       "           test           1300        208        16.000000\n",
       "226-250    control          41          5        12.195122\n",
       "           test            924        125        13.528139\n",
       "251+       control         146         23        15.753425\n",
       "           test           3470        554        15.965418"
      ]
     },
     "execution_count": 28,
     "metadata": {},
     "output_type": "execute_result"
    }
   ],
   "source": [
    "df3 = df3a.merge(df3b, on=['impr_range','group'])\n",
    "df3.columns = ['user_count', 'converted']\n",
    "df3['conversion_rate'] = df3.converted / df3.user_count *100\n",
    "df3"
   ]
  },
  {
   "cell_type": "markdown",
   "id": "d20e5be0-823b-4252-9d6b-ccbc32ef98b2",
   "metadata": {
    "tags": []
   },
   "source": [
    "### a) Create a chart of conversion rates as a function of the number of ads displayed to users. Plot conversion rates for those who were in the control group and for those who were exposed to the ad. Group together number of impressions as necessary to obtain a meaningful plot. (Conversion rate means the percentage of unique users who made a purchase.)"
   ]
  },
  {
   "cell_type": "code",
   "execution_count": 29,
   "id": "8f1b547f-e45d-4c19-a906-fedb45c7bc0a",
   "metadata": {},
   "outputs": [
    {
     "data": {
      "text/plain": [
       "Text(0.5, 1.0, 'Conversion Rate vs Number of Ad Impressions')"
      ]
     },
     "execution_count": 29,
     "metadata": {},
     "output_type": "execute_result"
    },
    {
     "data": {
      "image/png": "[encoded data removed]",
      "text/plain": [
       "<Figure size 640x480 with 1 Axes>"
      ]
     },
     "metadata": {},
     "output_type": "display_data"
    }
   ],
   "source": [
    "sns.scatterplot(df3, x='impr_range',y='conversion_rate',hue='group',alpha=.8)\n",
    "plt.xticks(rotation=30)\n",
    "plt.title('Conversion Rate vs Number of Ad Impressions')"
   ]
  },
  {
   "cell_type": "markdown",
   "id": "43e01df3-b7a0-47e6-8a91-ac0a526414e1",
   "metadata": {
    "tags": []
   },
   "source": [
    "### b) What can you infer from the charts? In what region is advertising most effective?\n",
    "<font color = 'blue'> As we can see from the scatterplot, there are diminishing returns with more ad impressions, but it takes at least 50 impressions to start making a conversion difference, but by 200 impressions that difference begins to disappear."
   ]
  },
  {
   "cell_type": "markdown",
   "id": "35f6304c-27a1-4082-9baa-b5a1a18d0e68",
   "metadata": {
    "tags": []
   },
   "source": [
    "### c) What do the above figures imply for the design of the next campaign assuming that consumer response would be similar?\n",
    "<font color = 'blue'> For the next campaign, given the diminishing returns, the marketing team should limit the number of impressions per user to 200 at most and should focus on increasing the number of distinct users who are exposed to the ad"
   ]
  },
  {
   "cell_type": "markdown",
   "id": "8082cc1a-331c-4b5d-b060-4524786bbb96",
   "metadata": {
    "tags": []
   },
   "source": [
    "## 4) How does consumer response to advertising vary on different days of the week and at different times of the day?"
   ]
  },
  {
   "cell_type": "code",
   "execution_count": 30,
   "id": "162eff37-e802-4fda-b24a-c6b6aa26a73f",
   "metadata": {},
   "outputs": [
    {
     "data": {
      "text/html": [
       "<div>\n",
       "<style scoped>\n",
       "    .dataframe tbody tr th:only-of-type {\n",
       "        vertical-align: middle;\n",
       "    }\n",
       "\n",
       "    .dataframe tbody tr th {\n",
       "        vertical-align: top;\n",
       "    }\n",
       "\n",
       "    .dataframe thead th {\n",
       "        text-align: right;\n",
       "    }\n",
       "</style>\n",
       "<table border=\"1\" class=\"dataframe\">\n",
       "  <thead>\n",
       "    <tr style=\"text-align: right;\">\n",
       "      <th></th>\n",
       "      <th>user_id</th>\n",
       "      <th>test</th>\n",
       "      <th>converted</th>\n",
       "      <th>tot_impr</th>\n",
       "      <th>mode_impr_day</th>\n",
       "      <th>mode_impr_hour</th>\n",
       "      <th>impr_range</th>\n",
       "    </tr>\n",
       "  </thead>\n",
       "  <tbody>\n",
       "    <tr>\n",
       "      <th>0</th>\n",
       "      <td>1069124</td>\n",
       "      <td>test</td>\n",
       "      <td>0</td>\n",
       "      <td>130</td>\n",
       "      <td>Monday</td>\n",
       "      <td>20</td>\n",
       "      <td>126-150</td>\n",
       "    </tr>\n",
       "    <tr>\n",
       "      <th>1</th>\n",
       "      <td>1119715</td>\n",
       "      <td>test</td>\n",
       "      <td>0</td>\n",
       "      <td>93</td>\n",
       "      <td>Tuesday</td>\n",
       "      <td>22</td>\n",
       "      <td>76-100</td>\n",
       "    </tr>\n",
       "    <tr>\n",
       "      <th>2</th>\n",
       "      <td>1144181</td>\n",
       "      <td>test</td>\n",
       "      <td>0</td>\n",
       "      <td>21</td>\n",
       "      <td>Tuesday</td>\n",
       "      <td>18</td>\n",
       "      <td>1-25</td>\n",
       "    </tr>\n",
       "    <tr>\n",
       "      <th>3</th>\n",
       "      <td>1435133</td>\n",
       "      <td>test</td>\n",
       "      <td>0</td>\n",
       "      <td>355</td>\n",
       "      <td>Tuesday</td>\n",
       "      <td>10</td>\n",
       "      <td>251+</td>\n",
       "    </tr>\n",
       "    <tr>\n",
       "      <th>4</th>\n",
       "      <td>1015700</td>\n",
       "      <td>test</td>\n",
       "      <td>0</td>\n",
       "      <td>276</td>\n",
       "      <td>Friday</td>\n",
       "      <td>14</td>\n",
       "      <td>251+</td>\n",
       "    </tr>\n",
       "  </tbody>\n",
       "</table>\n",
       "</div>"
      ],
      "text/plain": [
       "   user_id  test  converted  tot_impr mode_impr_day  mode_impr_hour impr_range\n",
       "0  1069124  test          0       130        Monday              20    126-150\n",
       "1  1119715  test          0        93       Tuesday              22     76-100\n",
       "2  1144181  test          0        21       Tuesday              18       1-25\n",
       "3  1435133  test          0       355       Tuesday              10       251+\n",
       "4  1015700  test          0       276        Friday              14       251+"
      ]
     },
     "execution_count": 30,
     "metadata": {},
     "output_type": "execute_result"
    }
   ],
   "source": [
    "# repeat steps above, but for day of week\n",
    "df4 = df\n",
    "df4['mode_impr_day'] = ['Monday' if x == 1 else 'Tuesday' if x == 2 else\n",
    "                        'Wednesday' if x == 3 else 'Thursday' if x == 4 else\n",
    "                        'Friday' if x == 5 else 'Saturday' if x == 6 else\n",
    "                        'Sunday' for x in df4.mode_impr_day]\n",
    "df4.head()"
   ]
  },
  {
   "cell_type": "code",
   "execution_count": 31,
   "id": "29029da2-e97d-4422-a728-6b09ba41aba2",
   "metadata": {},
   "outputs": [
    {
     "data": {
      "text/plain": [
       "mode_impr_day\n",
       "Monday       2857\n",
       "Tuesday      2312\n",
       "Wednesday    2018\n",
       "Thursday     1790\n",
       "Friday       2057\n",
       "Saturday     1719\n",
       "Sunday       2090\n",
       "Name: converted, dtype: int64"
      ]
     },
     "execution_count": 31,
     "metadata": {},
     "output_type": "execute_result"
    }
   ],
   "source": [
    "days = ['Monday', 'Tuesday', 'Wednesday', 'Thursday', 'Friday', 'Saturday', 'Sunday']\n",
    "df4.mode_impr_day = pd.Categorical(df4.mode_impr_day, categories=days, ordered=True)\n",
    "\n",
    "df4.groupby('mode_impr_day')['converted'].sum()"
   ]
  },
  {
   "cell_type": "code",
   "execution_count": 32,
   "id": "7ba70c00-cbe9-4281-8bfb-1dce40c6f997",
   "metadata": {},
   "outputs": [
    {
     "data": {
      "text/html": [
       "<div>\n",
       "<style scoped>\n",
       "    .dataframe tbody tr th:only-of-type {\n",
       "        vertical-align: middle;\n",
       "    }\n",
       "\n",
       "    .dataframe tbody tr th {\n",
       "        vertical-align: top;\n",
       "    }\n",
       "\n",
       "    .dataframe thead th {\n",
       "        text-align: right;\n",
       "    }\n",
       "</style>\n",
       "<table border=\"1\" class=\"dataframe\">\n",
       "  <thead>\n",
       "    <tr style=\"text-align: right;\">\n",
       "      <th></th>\n",
       "      <th>user_id</th>\n",
       "      <th>group</th>\n",
       "      <th>converted</th>\n",
       "      <th>tot_impr</th>\n",
       "      <th>mode_impr_day</th>\n",
       "      <th>mode_impr_hour</th>\n",
       "      <th>impr_range</th>\n",
       "    </tr>\n",
       "  </thead>\n",
       "  <tbody>\n",
       "    <tr>\n",
       "      <th>0</th>\n",
       "      <td>1069124</td>\n",
       "      <td>test</td>\n",
       "      <td>0</td>\n",
       "      <td>130</td>\n",
       "      <td>Monday</td>\n",
       "      <td>20</td>\n",
       "      <td>126-150</td>\n",
       "    </tr>\n",
       "    <tr>\n",
       "      <th>1</th>\n",
       "      <td>1119715</td>\n",
       "      <td>test</td>\n",
       "      <td>0</td>\n",
       "      <td>93</td>\n",
       "      <td>Tuesday</td>\n",
       "      <td>22</td>\n",
       "      <td>76-100</td>\n",
       "    </tr>\n",
       "    <tr>\n",
       "      <th>2</th>\n",
       "      <td>1144181</td>\n",
       "      <td>test</td>\n",
       "      <td>0</td>\n",
       "      <td>21</td>\n",
       "      <td>Tuesday</td>\n",
       "      <td>18</td>\n",
       "      <td>1-25</td>\n",
       "    </tr>\n",
       "    <tr>\n",
       "      <th>3</th>\n",
       "      <td>1435133</td>\n",
       "      <td>test</td>\n",
       "      <td>0</td>\n",
       "      <td>355</td>\n",
       "      <td>Tuesday</td>\n",
       "      <td>10</td>\n",
       "      <td>251+</td>\n",
       "    </tr>\n",
       "    <tr>\n",
       "      <th>4</th>\n",
       "      <td>1015700</td>\n",
       "      <td>test</td>\n",
       "      <td>0</td>\n",
       "      <td>276</td>\n",
       "      <td>Friday</td>\n",
       "      <td>14</td>\n",
       "      <td>251+</td>\n",
       "    </tr>\n",
       "    <tr>\n",
       "      <th>...</th>\n",
       "      <td>...</td>\n",
       "      <td>...</td>\n",
       "      <td>...</td>\n",
       "      <td>...</td>\n",
       "      <td>...</td>\n",
       "      <td>...</td>\n",
       "      <td>...</td>\n",
       "    </tr>\n",
       "    <tr>\n",
       "      <th>588096</th>\n",
       "      <td>1278437</td>\n",
       "      <td>test</td>\n",
       "      <td>0</td>\n",
       "      <td>1</td>\n",
       "      <td>Tuesday</td>\n",
       "      <td>23</td>\n",
       "      <td>1-25</td>\n",
       "    </tr>\n",
       "    <tr>\n",
       "      <th>588097</th>\n",
       "      <td>1327975</td>\n",
       "      <td>test</td>\n",
       "      <td>0</td>\n",
       "      <td>1</td>\n",
       "      <td>Tuesday</td>\n",
       "      <td>23</td>\n",
       "      <td>1-25</td>\n",
       "    </tr>\n",
       "    <tr>\n",
       "      <th>588098</th>\n",
       "      <td>1038442</td>\n",
       "      <td>test</td>\n",
       "      <td>0</td>\n",
       "      <td>3</td>\n",
       "      <td>Tuesday</td>\n",
       "      <td>23</td>\n",
       "      <td>1-25</td>\n",
       "    </tr>\n",
       "    <tr>\n",
       "      <th>588099</th>\n",
       "      <td>1496395</td>\n",
       "      <td>test</td>\n",
       "      <td>0</td>\n",
       "      <td>1</td>\n",
       "      <td>Tuesday</td>\n",
       "      <td>23</td>\n",
       "      <td>1-25</td>\n",
       "    </tr>\n",
       "    <tr>\n",
       "      <th>588100</th>\n",
       "      <td>1237779</td>\n",
       "      <td>test</td>\n",
       "      <td>0</td>\n",
       "      <td>1</td>\n",
       "      <td>Tuesday</td>\n",
       "      <td>23</td>\n",
       "      <td>1-25</td>\n",
       "    </tr>\n",
       "  </tbody>\n",
       "</table>\n",
       "<p>588101 rows × 7 columns</p>\n",
       "</div>"
      ],
      "text/plain": [
       "        user_id group  converted  tot_impr mode_impr_day  mode_impr_hour  \\\n",
       "0       1069124  test          0       130        Monday              20   \n",
       "1       1119715  test          0        93       Tuesday              22   \n",
       "2       1144181  test          0        21       Tuesday              18   \n",
       "3       1435133  test          0       355       Tuesday              10   \n",
       "4       1015700  test          0       276        Friday              14   \n",
       "...         ...   ...        ...       ...           ...             ...   \n",
       "588096  1278437  test          0         1       Tuesday              23   \n",
       "588097  1327975  test          0         1       Tuesday              23   \n",
       "588098  1038442  test          0         3       Tuesday              23   \n",
       "588099  1496395  test          0         1       Tuesday              23   \n",
       "588100  1237779  test          0         1       Tuesday              23   \n",
       "\n",
       "       impr_range  \n",
       "0         126-150  \n",
       "1          76-100  \n",
       "2            1-25  \n",
       "3            251+  \n",
       "4            251+  \n",
       "...           ...  \n",
       "588096       1-25  \n",
       "588097       1-25  \n",
       "588098       1-25  \n",
       "588099       1-25  \n",
       "588100       1-25  \n",
       "\n",
       "[588101 rows x 7 columns]"
      ]
     },
     "execution_count": 32,
     "metadata": {},
     "output_type": "execute_result"
    }
   ],
   "source": [
    "df4=df4.rename(columns={'test':'group'})\n",
    "\n",
    "df4"
   ]
  },
  {
   "cell_type": "code",
   "execution_count": 33,
   "id": "d01c2ffc-2709-494b-8061-56351f615184",
   "metadata": {},
   "outputs": [],
   "source": [
    "df4a = df4.groupby(['mode_impr_day','group'])['user_id'].count().to_frame()\n",
    "df4b = df4.groupby(['mode_impr_day','group'])['converted'].sum().to_frame()\n",
    "df4c = df4a.merge(df4b, on=['mode_impr_day','group'])\n",
    "\n",
    "df4c.rename(columns={'user_id':'user_count'}, inplace=True)\n"
   ]
  },
  {
   "cell_type": "code",
   "execution_count": 34,
   "id": "84b3a28b-fa66-40c1-b3c3-989749b2cc7b",
   "metadata": {},
   "outputs": [
    {
     "data": {
      "text/html": [
       "<div>\n",
       "<style scoped>\n",
       "    .dataframe tbody tr th:only-of-type {\n",
       "        vertical-align: middle;\n",
       "    }\n",
       "\n",
       "    .dataframe tbody tr th {\n",
       "        vertical-align: top;\n",
       "    }\n",
       "\n",
       "    .dataframe thead th {\n",
       "        text-align: right;\n",
       "    }\n",
       "</style>\n",
       "<table border=\"1\" class=\"dataframe\">\n",
       "  <thead>\n",
       "    <tr style=\"text-align: right;\">\n",
       "      <th></th>\n",
       "      <th></th>\n",
       "      <th>user_count</th>\n",
       "      <th>converted</th>\n",
       "      <th>conversion_rate</th>\n",
       "    </tr>\n",
       "    <tr>\n",
       "      <th>mode_impr_day</th>\n",
       "      <th>group</th>\n",
       "      <th></th>\n",
       "      <th></th>\n",
       "      <th></th>\n",
       "    </tr>\n",
       "  </thead>\n",
       "  <tbody>\n",
       "    <tr>\n",
       "      <th rowspan=\"2\" valign=\"top\">Monday</th>\n",
       "      <th>control</th>\n",
       "      <td>3502</td>\n",
       "      <td>79</td>\n",
       "      <td>2.255854</td>\n",
       "    </tr>\n",
       "    <tr>\n",
       "      <th>test</th>\n",
       "      <td>83571</td>\n",
       "      <td>2778</td>\n",
       "      <td>3.324120</td>\n",
       "    </tr>\n",
       "    <tr>\n",
       "      <th rowspan=\"2\" valign=\"top\">Tuesday</th>\n",
       "      <th>control</th>\n",
       "      <td>2907</td>\n",
       "      <td>42</td>\n",
       "      <td>1.444788</td>\n",
       "    </tr>\n",
       "    <tr>\n",
       "      <th>test</th>\n",
       "      <td>74572</td>\n",
       "      <td>2270</td>\n",
       "      <td>3.044038</td>\n",
       "    </tr>\n",
       "    <tr>\n",
       "      <th rowspan=\"2\" valign=\"top\">Wednesday</th>\n",
       "      <th>control</th>\n",
       "      <td>3490</td>\n",
       "      <td>55</td>\n",
       "      <td>1.575931</td>\n",
       "    </tr>\n",
       "    <tr>\n",
       "      <th>test</th>\n",
       "      <td>77418</td>\n",
       "      <td>1963</td>\n",
       "      <td>2.535586</td>\n",
       "    </tr>\n",
       "    <tr>\n",
       "      <th rowspan=\"2\" valign=\"top\">Thursday</th>\n",
       "      <th>control</th>\n",
       "      <td>3905</td>\n",
       "      <td>79</td>\n",
       "      <td>2.023047</td>\n",
       "    </tr>\n",
       "    <tr>\n",
       "      <th>test</th>\n",
       "      <td>79077</td>\n",
       "      <td>1711</td>\n",
       "      <td>2.163714</td>\n",
       "    </tr>\n",
       "    <tr>\n",
       "      <th rowspan=\"2\" valign=\"top\">Friday</th>\n",
       "      <th>control</th>\n",
       "      <td>3803</td>\n",
       "      <td>62</td>\n",
       "      <td>1.630292</td>\n",
       "    </tr>\n",
       "    <tr>\n",
       "      <th>test</th>\n",
       "      <td>88805</td>\n",
       "      <td>1995</td>\n",
       "      <td>2.246495</td>\n",
       "    </tr>\n",
       "    <tr>\n",
       "      <th rowspan=\"2\" valign=\"top\">Saturday</th>\n",
       "      <th>control</th>\n",
       "      <td>2858</td>\n",
       "      <td>40</td>\n",
       "      <td>1.399580</td>\n",
       "    </tr>\n",
       "    <tr>\n",
       "      <th>test</th>\n",
       "      <td>78802</td>\n",
       "      <td>1679</td>\n",
       "      <td>2.130657</td>\n",
       "    </tr>\n",
       "    <tr>\n",
       "      <th rowspan=\"2\" valign=\"top\">Sunday</th>\n",
       "      <th>control</th>\n",
       "      <td>3059</td>\n",
       "      <td>63</td>\n",
       "      <td>2.059497</td>\n",
       "    </tr>\n",
       "    <tr>\n",
       "      <th>test</th>\n",
       "      <td>82332</td>\n",
       "      <td>2027</td>\n",
       "      <td>2.461983</td>\n",
       "    </tr>\n",
       "  </tbody>\n",
       "</table>\n",
       "</div>"
      ],
      "text/plain": [
       "                       user_count  converted  conversion_rate\n",
       "mode_impr_day group                                          \n",
       "Monday        control        3502         79         2.255854\n",
       "              test          83571       2778         3.324120\n",
       "Tuesday       control        2907         42         1.444788\n",
       "              test          74572       2270         3.044038\n",
       "Wednesday     control        3490         55         1.575931\n",
       "              test          77418       1963         2.535586\n",
       "Thursday      control        3905         79         2.023047\n",
       "              test          79077       1711         2.163714\n",
       "Friday        control        3803         62         1.630292\n",
       "              test          88805       1995         2.246495\n",
       "Saturday      control        2858         40         1.399580\n",
       "              test          78802       1679         2.130657\n",
       "Sunday        control        3059         63         2.059497\n",
       "              test          82332       2027         2.461983"
      ]
     },
     "execution_count": 34,
     "metadata": {},
     "output_type": "execute_result"
    }
   ],
   "source": [
    "df4c['conversion_rate'] = df4c.converted / df4c.user_count * 100\n",
    "\n",
    "df4c"
   ]
  },
  {
   "cell_type": "markdown",
   "id": "ad1948c7-dacd-4617-b4eb-61af6467b0e3",
   "metadata": {
    "tags": []
   },
   "source": [
    "### a) Create a chart with the conversion rates for the control group and the exposed group as a function of the day of week when they were shown the most impressions."
   ]
  },
  {
   "cell_type": "code",
   "execution_count": 35,
   "id": "c8e103c0-616b-42e0-8448-ad60e1d71ad3",
   "metadata": {},
   "outputs": [
    {
     "data": {
      "text/plain": [
       "Text(0.5, 1.0, 'Conversion Rate Throughout the Week')"
      ]
     },
     "execution_count": 35,
     "metadata": {},
     "output_type": "execute_result"
    },
    {
     "data": {
      "image/png": "[encoded data removed]",
      "text/plain": [
       "<Figure size 640x480 with 1 Axes>"
      ]
     },
     "metadata": {},
     "output_type": "display_data"
    }
   ],
   "source": [
    "q=sns.lineplot(x='mode_impr_day', y='conversion_rate', hue='group', data=df4c.reset_index(), linewidth=3)\n",
    "plt.xticks(rotation=30)\n",
    "plt.title('Conversion Rate Throughout the Week')"
   ]
  },
  {
   "cell_type": "code",
   "execution_count": 36,
   "id": "94f5e188-0dcb-4c5b-a3db-061a5d31d49c",
   "metadata": {},
   "outputs": [
    {
     "data": {
      "text/html": [
       "<div>\n",
       "<style scoped>\n",
       "    .dataframe tbody tr th:only-of-type {\n",
       "        vertical-align: middle;\n",
       "    }\n",
       "\n",
       "    .dataframe tbody tr th {\n",
       "        vertical-align: top;\n",
       "    }\n",
       "\n",
       "    .dataframe thead th {\n",
       "        text-align: right;\n",
       "    }\n",
       "</style>\n",
       "<table border=\"1\" class=\"dataframe\">\n",
       "  <thead>\n",
       "    <tr style=\"text-align: right;\">\n",
       "      <th></th>\n",
       "      <th></th>\n",
       "      <th>user_count</th>\n",
       "      <th>converted</th>\n",
       "      <th>conversion_rate</th>\n",
       "    </tr>\n",
       "    <tr>\n",
       "      <th>mode_impr_hour</th>\n",
       "      <th>group</th>\n",
       "      <th></th>\n",
       "      <th></th>\n",
       "      <th></th>\n",
       "    </tr>\n",
       "  </thead>\n",
       "  <tbody>\n",
       "    <tr>\n",
       "      <th rowspan=\"2\" valign=\"top\">8</th>\n",
       "      <th>control</th>\n",
       "      <td>659</td>\n",
       "      <td>7</td>\n",
       "      <td>1.062215</td>\n",
       "    </tr>\n",
       "    <tr>\n",
       "      <th>test</th>\n",
       "      <td>16968</td>\n",
       "      <td>337</td>\n",
       "      <td>1.986091</td>\n",
       "    </tr>\n",
       "    <tr>\n",
       "      <th rowspan=\"2\" valign=\"top\">9</th>\n",
       "      <th>control</th>\n",
       "      <td>1202</td>\n",
       "      <td>13</td>\n",
       "      <td>1.081531</td>\n",
       "    </tr>\n",
       "    <tr>\n",
       "      <th>test</th>\n",
       "      <td>29802</td>\n",
       "      <td>582</td>\n",
       "      <td>1.952889</td>\n",
       "    </tr>\n",
       "    <tr>\n",
       "      <th>10</th>\n",
       "      <th>control</th>\n",
       "      <td>1485</td>\n",
       "      <td>20</td>\n",
       "      <td>1.346801</td>\n",
       "    </tr>\n",
       "  </tbody>\n",
       "</table>\n",
       "</div>"
      ],
      "text/plain": [
       "                        user_count  converted  conversion_rate\n",
       "mode_impr_hour group                                          \n",
       "8              control         659          7         1.062215\n",
       "               test          16968        337         1.986091\n",
       "9              control        1202         13         1.081531\n",
       "               test          29802        582         1.952889\n",
       "10             control        1485         20         1.346801"
      ]
     },
     "execution_count": 36,
     "metadata": {},
     "output_type": "execute_result"
    }
   ],
   "source": [
    "df5 = df4[df4['mode_impr_hour'] >= 8]\n",
    "df5a = df5.groupby(['mode_impr_hour','group'])['user_id'].count().to_frame()\n",
    "df5b = df5.groupby(['mode_impr_hour','group'])['converted'].sum().to_frame()\n",
    "df5 = df5a.merge(df5b, on=['mode_impr_hour','group'])\n",
    "\n",
    "df5.rename(columns={'user_id':'user_count'},inplace=True)\n",
    "\n",
    "df5['conversion_rate'] = df5.converted / df5.user_count * 100\n",
    "\n",
    "df5.head()"
   ]
  },
  {
   "cell_type": "markdown",
   "id": "5acbdca4-404a-44af-babd-e2ac0155342c",
   "metadata": {
    "tags": []
   },
   "source": [
    "### b) Create the same chart for hours within a day (excluding the period between midnight and 8 a.m.)."
   ]
  },
  {
   "cell_type": "code",
   "execution_count": 37,
   "id": "b78fc16f-ef26-4c0c-8c4e-249328d383c2",
   "metadata": {},
   "outputs": [
    {
     "data": {
      "text/plain": [
       "Text(0.5, 1.0, 'Conversion Rate Throughout the Day (8am to midnight)')"
      ]
     },
     "execution_count": 37,
     "metadata": {},
     "output_type": "execute_result"
    },
    {
     "data": {
      "image/png": "[encoded data removed]",
      "text/plain": [
       "<Figure size 640x480 with 1 Axes>"
      ]
     },
     "metadata": {},
     "output_type": "display_data"
    }
   ],
   "source": [
    "q=sns.lineplot(x='mode_impr_hour', y='conversion_rate', hue='group', data=df5.reset_index(),linewidth=3)\n",
    "\n",
    "plt.title('Conversion Rate Throughout the Day (8am to midnight)')"
   ]
  },
  {
   "cell_type": "markdown",
   "id": "6b077c62-c978-4e46-9eba-4e125acc027a",
   "metadata": {
    "tags": []
   },
   "source": [
    "### c) What days/hours is advertising most/least effective?\n",
    "Advertisments are most effective on Monday and Tuesday (or, perhaps users see a critical mass of the ads over the weekend and finally decide to make the purchase on Monday or Tuesday) with almost no difference between the control and test group for conversion for ads seen on Thursday. As to the timing during the days, ads seem to be more effective from 8am to 2pm with both the test and control groups trending down after the standard workday except for a divergence at 8pm. Futher analysis to break down the timing of each day would be helpful to see if the 8pm spike is due to weekday or weekend activity."
   ]
  },
  {
   "cell_type": "code",
   "execution_count": null,
   "id": "7d644e38-1536-46a0-8bfe-5a73a0512f69",
   "metadata": {},
   "outputs": [],
   "source": []
  }
 ],
 "metadata": {
  "kernelspec": {
   "display_name": "Python 3 (ipykernel)",
   "language": "python",
   "name": "python3"
  },
  "language_info": {
   "codemirror_mode": {
    "name": "ipython",
    "version": 3
   },
   "file_extension": ".py",
   "mimetype": "text/x-python",
   "name": "python",
   "nbconvert_exporter": "python",
   "pygments_lexer": "ipython3",
   "version": "3.11.0"
  }
 },
 "nbformat": 4,
 "nbformat_minor": 5
}
